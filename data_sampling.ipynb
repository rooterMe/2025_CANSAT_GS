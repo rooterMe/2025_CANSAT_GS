{
 "cells": [
  {
   "cell_type": "markdown",
   "metadata": {},
   "source": [
    "IMU data sampling"
   ]
  },
  {
   "cell_type": "code",
   "execution_count": 4,
   "metadata": {},
   "outputs": [],
   "source": [
    "import csv\n",
    "import random\n",
    "import numpy as np\n",
    "import os\n",
    "import shutil\n",
    "import cv2"
   ]
  },
  {
   "cell_type": "code",
   "execution_count": 266,
   "metadata": {},
   "outputs": [
    {
     "data": {
      "text/plain": [
       "174101"
      ]
     },
     "execution_count": 266,
     "metadata": {},
     "output_type": "execute_result"
    }
   ],
   "source": [
    "240729\n",
    "\n",
    "113848\n",
    "165940\n",
    "174101\n",
    "\n",
    "240730\n",
    "\n",
    "160424\n",
    "161728\n",
    "163508\n",
    "\n",
    "240807\n",
    "\n",
    "131207\n",
    "\n",
    "240809\n",
    "\n",
    "172448"
   ]
  },
  {
   "cell_type": "code",
   "execution_count": 418,
   "metadata": {},
   "outputs": [
    {
     "name": "stdout",
     "output_type": "stream",
     "text": [
      "240809 20240809_172448\n"
     ]
    }
   ],
   "source": [
    "day = '240809'\n",
    "can_Time = '20240809_172448'\n",
    "\n",
    "print(day, can_Time)"
   ]
  },
  {
   "cell_type": "code",
   "execution_count": 419,
   "metadata": {},
   "outputs": [
    {
     "name": "stdout",
     "output_type": "stream",
     "text": [
      "89131\n"
     ]
    }
   ],
   "source": [
    "cansat_data = []\n",
    "#directory = f\"D:\\cansat_log\\cantest_{day}\"\n",
    "directory = f\"D:/cansat_log/cantest_{day}/cansat_test_{can_Time}\"\n",
    "with open(f\"{directory}/cansat_log_{can_Time}.csv\", 'r') as f:\n",
    "    rdr = csv.reader(f)\n",
    "    for line in rdr:\n",
    "        cansat_data.append(line)\n",
    "print(len(cansat_data))"
   ]
  },
  {
   "cell_type": "code",
   "execution_count": 270,
   "metadata": {},
   "outputs": [
    {
     "data": {
      "text/plain": [
       "'\\ncansat_data = []\\ndirectory = f\"D:\\\\cansat_log\\\\cantest_{day}\"\\n#directory = f\"D:\\\\cansat_log\\\\cantest_{day}\\\\cansat_test_{can_Time}\"\\nwith open(\"D:\\\\cansat_log\\\\cantest_240410\\\\labels.txt\", \\'r\\') as f:\\n    rdr = f.readlines()\\n    \\n    for line in rdr:\\n        cansat_data.append(line[:-2].split())\\n\\nprint(cansat_data)\\n'"
      ]
     },
     "execution_count": 270,
     "metadata": {},
     "output_type": "execute_result"
    }
   ],
   "source": [
    "\"\"\"\n",
    "cansat_data = []\n",
    "directory = f\"D:\\cansat_log\\cantest_{day}\"\n",
    "#directory = f\"D:\\cansat_log\\cantest_{day}\\cansat_test_{can_Time}\"\n",
    "with open(\"D:\\cansat_log\\cantest_240410\\labels.txt\", 'r') as f:\n",
    "    rdr = f.readlines()\n",
    "    \n",
    "    for line in rdr:\n",
    "        cansat_data.append(line[:-2].split())\n",
    "\n",
    "print(cansat_data)\n",
    "\"\"\""
   ]
  },
  {
   "cell_type": "code",
   "execution_count": 271,
   "metadata": {},
   "outputs": [
    {
     "data": {
      "text/plain": [
       "'\\n#print(cansat_data)\\nimu_data = []\\nfor line in cansat_data:\\n\\n    imu_data.append([float(line[0]), float(line[1]), float(line[2])])\\n\\nprint(len(imu_data))\\nprint(imu_data)\\n'"
      ]
     },
     "execution_count": 271,
     "metadata": {},
     "output_type": "execute_result"
    }
   ],
   "source": [
    "\"\"\"\n",
    "#print(cansat_data)\n",
    "imu_data = []\n",
    "for line in cansat_data:\n",
    "\n",
    "    imu_data.append([float(line[0]), float(line[1]), float(line[2])])\n",
    "\n",
    "print(len(imu_data))\n",
    "print(imu_data)\n",
    "\"\"\""
   ]
  },
  {
   "cell_type": "code",
   "execution_count": 420,
   "metadata": {},
   "outputs": [
    {
     "name": "stdout",
     "output_type": "stream",
     "text": [
      "start\n",
      "end\n",
      "22054\n",
      "22055\n",
      "20240809_172457331384\n",
      "1761 19420\n"
     ]
    }
   ],
   "source": [
    "imu_data = []\n",
    "camera_time = []\n",
    "cnt0=0\n",
    "for line in cansat_data:\n",
    "    if line[0] == 'Picture' and line[1][49]=='0':\n",
    "        camera_time.append(line[1][59:-4])\n",
    "        if line[1][59:-4] == '20240809_172615167199':\n",
    "            start = len(imu_data)\n",
    "            print(\"start\")\n",
    "        if line[1][59:-4] == '20240809_173815406997':\n",
    "            end = len(imu_data)\n",
    "            print(\"end\")\n",
    "    if line[0] == 'IMU_DATA':\n",
    "        r = float(line[1][1:])\n",
    "        p = float(line[2])\n",
    "        y = float(line[3])\n",
    "        \n",
    "        imu_data.append([r,p,y])\n",
    "    \n",
    "\n",
    "print(len(imu_data))\n",
    "print(len(camera_time))\n",
    "print(camera_time[0])\n",
    "print(start, end)"
   ]
  },
  {
   "cell_type": "code",
   "execution_count": 421,
   "metadata": {},
   "outputs": [
    {
     "name": "stdout",
     "output_type": "stream",
     "text": [
      "5\n"
     ]
    }
   ],
   "source": [
    "sample_len = (end-start)//3100\n",
    "print(sample_len)"
   ]
  },
  {
   "cell_type": "code",
   "execution_count": 422,
   "metadata": {},
   "outputs": [
    {
     "name": "stdout",
     "output_type": "stream",
     "text": [
      "[(1835, 2746), (4876, 3076), (8154, 2911), (11342, 2707), (14331, 3091)]\n"
     ]
    }
   ],
   "source": [
    "samples = []\n",
    "#s=random.randint(500, 600)\n",
    "s=start + random.randint(50, 100)\n",
    "e=end\n",
    "for _ in range(sample_len):\n",
    "    length = random.randint(2700, 3300)\n",
    "    if s+length > e:\n",
    "        length = e - s\n",
    "    samples.append((s, length))\n",
    "    gap = random.randint(100,300)\n",
    "    s += length + gap\n",
    "\n",
    "print(samples)"
   ]
  },
  {
   "cell_type": "code",
   "execution_count": 423,
   "metadata": {},
   "outputs": [],
   "source": [
    "def sampling_0410(sample,i):\n",
    "\n",
    "    directory_sample = f\"D:/cansat_log_sampleing/cantest_{day}/cansat_sample_{can_Time}_{i+1}\"\n",
    "    os.makedirs(f\"{directory_sample}/Camera_0\", exist_ok=True)\n",
    "    os.makedirs(f\"{directory_sample}/Camera_1\", exist_ok=True)\n",
    "\n",
    "    start,data_len = sample\n",
    "    sample_data = []\n",
    "\n",
    "    R = imu_data[start][0]\n",
    "    P = imu_data[start][1]\n",
    "    Y = imu_data[start][2]\n",
    "\n",
    "    for i in range(start,start+data_len):\n",
    "        line = imu_data[i]\n",
    "        r = line[0] - R\n",
    "        if r<-180:\n",
    "            r+=360\n",
    "        elif r>180:\n",
    "            r-=360\n",
    "\n",
    "        p = line[1] - P\n",
    "        if p<-90:\n",
    "            p+=180\n",
    "        elif p>90:\n",
    "            p-=180\n",
    "\n",
    "        y = line[2] - Y\n",
    "        if y<-180:\n",
    "            y+=360\n",
    "        elif y>180:\n",
    "            y-=360\n",
    "            \n",
    "        sample_data.append([r, p, y])\n",
    "\n",
    "        source = f\"{directory}\\Camera_Image\\Camera_0\\Camera0_{camera_time[i]}.jpg\"\n",
    "        directory_img = f\"{directory_sample}/Camera_0/{i+1-start}.jpg\"\n",
    "        shutil.copy(source, directory_img)\n",
    "\n",
    "        source = f\"{directory}\\Camera_Image\\Camera_1\\Camera1_{camera_time[i]}.jpg\"\n",
    "        directory_img = f\"{directory_sample}/Camera_1/{i+1-start}.jpg\"\n",
    "        shutil.copy(source, directory_img)\n",
    "    \n",
    "    return sample_data\n",
    "\n"
   ]
  },
  {
   "cell_type": "code",
   "execution_count": 424,
   "metadata": {},
   "outputs": [],
   "source": [
    "for i in range(sample_len):\n",
    "    sample = samples[i]\n",
    "    sample_data = sampling_0410(sample,i)\n",
    "    directory_sample = f\"D:/cansat_log_sampleing/cantest_{day}/cansat_sample_{can_Time}_{i+1}\"\n",
    "    os.makedirs(directory_sample, exist_ok=True)\n",
    "    filename = f'{directory_sample}/{can_Time}_imu_data_sample{i+1}.txt'\n",
    "    with open(filename, mode='w', newline='') as file:\n",
    "        writer = csv.writer(file, delimiter=' ')\n",
    "        writer.writerows(sample_data)\n"
   ]
  },
  {
   "cell_type": "markdown",
   "metadata": {},
   "source": [
    "Make MP4"
   ]
  },
  {
   "cell_type": "code",
   "execution_count": 190,
   "metadata": {},
   "outputs": [],
   "source": [
    "def img_copy():\n",
    "\n",
    "    for i in range(len(camera_time)):\n",
    "        \n",
    "        source = f\"{directory}\\Camera_Image\\Camera_1\\Camera1_{camera_time[i]}.jpg\"\n",
    "        directory_img = f\"C:/Users/user/Desktop/cansat/cansat_goheung/camera 1/{i}.jpg\"\n",
    "        shutil.copy(source, directory_img)\n",
    "    \n",
    "    return sample_data\n",
    "\n"
   ]
  },
  {
   "cell_type": "code",
   "execution_count": null,
   "metadata": {},
   "outputs": [],
   "source": [
    "img_copy()"
   ]
  },
  {
   "cell_type": "code",
   "execution_count": 12,
   "metadata": {},
   "outputs": [],
   "source": [
    "def create_mp4(directory_mp4, cam_num, fps):\n",
    "    image_folder = f\"{directory_mp4}/camera{cam_num}\"\n",
    "    video_filename = f\"{directory_mp4[-17:]}_cam{cam_num}.mp4\"\n",
    "    \n",
    "    start_index = 0\n",
    "    end_index = 4540\n",
    "\n",
    "\n",
    "    image_files = [f\"{image_folder}/{str(i).zfill(6)}.jpg\" for i in range(start_index, end_index + 1)]\n",
    "\n",
    "    frame = cv2.imread(image_files[0])\n",
    "    height, width, layers = frame.shape\n",
    "\n",
    "    fourcc = cv2.VideoWriter_fourcc(*'mp4v') \n",
    "    video = cv2.VideoWriter(video_filename, fourcc, fps, (width, height)) \n",
    "\n",
    "    for image_file in image_files:\n",
    "        img = cv2.imread(image_file)\n",
    "        video.write(img)\n",
    "\n",
    "    video.release()\n",
    "    cv2.destroyAllWindows()\n",
    "\n",
    "    print(f\"Video created successfully: {video_filename}\")\n"
   ]
  },
  {
   "cell_type": "code",
   "execution_count": 13,
   "metadata": {},
   "outputs": [
    {
     "name": "stdout",
     "output_type": "stream",
     "text": [
      "D:/KITTY\n",
      "!\n",
      "!\n",
      "!\n",
      "D:/KITTY/camera0/000000.png\n",
      "!\n",
      "Video created successfully: D:/KITTY_cam0.mp4\n",
      "!\n",
      "!\n",
      "!\n",
      "D:/KITTY/camera1/000000.png\n",
      "!\n",
      "Video created successfully: D:/KITTY_cam1.mp4\n"
     ]
    }
   ],
   "source": [
    "directory_mp4 = \"D:\\KITTY\"\n",
    "directory_mp4 = directory_mp4.replace('\\\\', '/')\n",
    "fps = 30\n",
    "\n",
    "print(directory_mp4)\n",
    "\n",
    "create_mp4(directory_mp4, 0, fps)\n",
    "create_mp4(directory_mp4, 1, fps)"
   ]
  },
  {
   "cell_type": "code",
   "execution_count": null,
   "metadata": {},
   "outputs": [],
   "source": []
  }
 ],
 "metadata": {
  "kernelspec": {
   "display_name": "myenv",
   "language": "python",
   "name": "python3"
  },
  "language_info": {
   "codemirror_mode": {
    "name": "ipython",
    "version": 3
   },
   "file_extension": ".py",
   "mimetype": "text/x-python",
   "name": "python",
   "nbconvert_exporter": "python",
   "pygments_lexer": "ipython3",
   "version": "3.11.4"
  }
 },
 "nbformat": 4,
 "nbformat_minor": 2
}
